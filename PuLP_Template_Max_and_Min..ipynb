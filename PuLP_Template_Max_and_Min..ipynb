{
 "cells": [
  {
   "cell_type": "markdown",
   "id": "56bd1f2a-0c19-455b-9839-9046d431e095",
   "metadata": {},
   "source": [
    "# 🔍 Optimization Template – PuLP (Maximization & Minimization)\n",
    "\n",
    "This notebook uses `PuLP`, a Python library for linear programming, to solve optimization problems.  \n",
    "You can copy this template for each new scenario by updating:\n",
    "\n",
    "- The **problem description**\n",
    "- The **objective function**\n",
    "- The **constraints**\n",
    "\n",
    "---"
   ]
  },
  {
   "cell_type": "markdown",
   "id": "3f30cea3-d8a1-40d5-8dbb-a01a2f2e22f8",
   "metadata": {},
   "source": [
    "## 🗂️ Table of Contents\n",
    "\n",
    "- [🚀 Maximization Model](#part-1-maximization--profit)\n",
    "- [📊 Sensitivity Analysis](#sensitivity-analysis-results)\n",
    "- [🔻 Minimization Model](#part-2-minimization--cost)\n",
    "- [🎛️ Scenario Selector](#scenario-selector)\n",
    "- [📦 Shipment Chart](#visual-optimal-shipments-chart)\n",
    "- [🔄 What-If Testing](#what-if-scenario-testing)\n"
   ]
  },
  {
   "cell_type": "markdown",
   "id": "311f466b-4302-4a81-a119-651b495d10cb",
   "metadata": {},
   "source": [
    "## Part 1: Maximization - Profit"
   ]
  },
  {
   "cell_type": "markdown",
   "id": "33675b2e-4da6-4cc4-83b2-55693e85af8d",
   "metadata": {},
   "source": [
    "### 📘 Problem Statement Example: Maximize Profit for 2 Products\n",
    "\n",
    "A company makes Product A and Product B.  \n",
    "- Product A uses 2 hours of Machine 1 and 1 hour of Machine 2  \n",
    "- Product B uses 1 hour of Machine 1 and 3 hours of Machine 2  \n",
    "- Machine 1 has 100 hours, Machine 2 has 90 hours  \n",
    "- Profit: $40 for A, $50 for B  \n",
    "\n",
    "**Objective**: Maximize profit.\n",
    "\n",
    "---\n",
    "\n",
    "### ✏️ Algebraic Formulation:\n",
    "\n",
    "Let:  \n",
    "- `x1` = units of Product A  \n",
    "- `x2` = units of Product B\n",
    "\n",
    "**Maximize:** `Z = 40x1 + 50x2`  \n",
    "**Subject to:**  \n",
    "- `2x1 + 1x2 ≤ 100`  \n",
    "- `1x1 + 3x2 ≤ 90`  \n",
    "- `x1, x2 ≥ 0`\n"
   ]
  },
  {
   "cell_type": "code",
   "execution_count": 10,
   "id": "d558ab8a-b031-4362-9170-5739b7f9376e",
   "metadata": {},
   "outputs": [
    {
     "data": {
      "text/html": [
       "<div>\n",
       "<style scoped>\n",
       "    .dataframe tbody tr th:only-of-type {\n",
       "        vertical-align: middle;\n",
       "    }\n",
       "\n",
       "    .dataframe tbody tr th {\n",
       "        vertical-align: top;\n",
       "    }\n",
       "\n",
       "    .dataframe thead th {\n",
       "        text-align: right;\n",
       "    }\n",
       "</style>\n",
       "<table border=\"1\" class=\"dataframe\">\n",
       "  <thead>\n",
       "    <tr style=\"text-align: right;\">\n",
       "      <th></th>\n",
       "      <th>Variable</th>\n",
       "      <th>Profit Coef</th>\n",
       "      <th>Machine 1 hrs/unit</th>\n",
       "      <th>Machine 2 hrs/unit</th>\n",
       "      <th>Lower Bound</th>\n",
       "      <th>Upper Bound</th>\n",
       "    </tr>\n",
       "  </thead>\n",
       "  <tbody>\n",
       "    <tr>\n",
       "      <th>0</th>\n",
       "      <td>x1 (Product A)</td>\n",
       "      <td>40</td>\n",
       "      <td>2</td>\n",
       "      <td>1</td>\n",
       "      <td>0</td>\n",
       "      <td>inf</td>\n",
       "    </tr>\n",
       "    <tr>\n",
       "      <th>1</th>\n",
       "      <td>x2 (Product B)</td>\n",
       "      <td>50</td>\n",
       "      <td>1</td>\n",
       "      <td>3</td>\n",
       "      <td>0</td>\n",
       "      <td>inf</td>\n",
       "    </tr>\n",
       "  </tbody>\n",
       "</table>\n",
       "</div>"
      ],
      "text/plain": [
       "         Variable  Profit Coef  Machine 1 hrs/unit  Machine 2 hrs/unit  \\\n",
       "0  x1 (Product A)           40                   2                   1   \n",
       "1  x2 (Product B)           50                   1                   3   \n",
       "\n",
       "   Lower Bound  Upper Bound  \n",
       "0            0          inf  \n",
       "1            0          inf  "
      ]
     },
     "metadata": {},
     "output_type": "display_data"
    },
    {
     "data": {
      "text/html": [
       "<div>\n",
       "<style scoped>\n",
       "    .dataframe tbody tr th:only-of-type {\n",
       "        vertical-align: middle;\n",
       "    }\n",
       "\n",
       "    .dataframe tbody tr th {\n",
       "        vertical-align: top;\n",
       "    }\n",
       "\n",
       "    .dataframe thead th {\n",
       "        text-align: right;\n",
       "    }\n",
       "</style>\n",
       "<table border=\"1\" class=\"dataframe\">\n",
       "  <thead>\n",
       "    <tr style=\"text-align: right;\">\n",
       "      <th></th>\n",
       "      <th>Constraint</th>\n",
       "      <th>Equation (LHS)</th>\n",
       "      <th>Sense</th>\n",
       "      <th>RHS Value</th>\n",
       "    </tr>\n",
       "  </thead>\n",
       "  <tbody>\n",
       "    <tr>\n",
       "      <th>0</th>\n",
       "      <td>Machine 1 Capacity</td>\n",
       "      <td>2x1 + 1x2</td>\n",
       "      <td>≤</td>\n",
       "      <td>100</td>\n",
       "    </tr>\n",
       "    <tr>\n",
       "      <th>1</th>\n",
       "      <td>Machine 2 Capacity</td>\n",
       "      <td>1x1 + 3x2</td>\n",
       "      <td>≤</td>\n",
       "      <td>90</td>\n",
       "    </tr>\n",
       "  </tbody>\n",
       "</table>\n",
       "</div>"
      ],
      "text/plain": [
       "           Constraint Equation (LHS) Sense  RHS Value\n",
       "0  Machine 1 Capacity      2x1 + 1x2     ≤        100\n",
       "1  Machine 2 Capacity      1x1 + 3x2     ≤         90"
      ]
     },
     "metadata": {},
     "output_type": "display_data"
    }
   ],
   "source": [
    "import pandas as pd\n",
    "\n",
    "# Visual representation of LP setup\n",
    "df = pd.DataFrame({\n",
    "    \"Variable\": [\"x1 (Product A)\", \"x2 (Product B)\"],\n",
    "    \"Profit Coef\": [40, 50],\n",
    "    \"Machine 1 hrs/unit\": [2, 1],\n",
    "    \"Machine 2 hrs/unit\": [1, 3],\n",
    "    \"Lower Bound\": [0, 0],\n",
    "    \"Upper Bound\": [float('inf'), float('inf')]\n",
    "})\n",
    "\n",
    "display(df)\n",
    "\n",
    "# Constraint summary\n",
    "rhs = pd.DataFrame({\n",
    "    \"Constraint\": [\"Machine 1 Capacity\", \"Machine 2 Capacity\"],\n",
    "    \"Equation (LHS)\": [\"2x1 + 1x2\", \"1x1 + 3x2\"],\n",
    "    \"Sense\": [\"≤\", \"≤\"],\n",
    "    \"RHS Value\": [100, 90]\n",
    "})\n",
    "\n",
    "display(rhs)\n"
   ]
  },
  {
   "cell_type": "code",
   "execution_count": 11,
   "id": "ee3f78e6-1d8b-40da-87b1-beb83fa2f29c",
   "metadata": {},
   "outputs": [
    {
     "name": "stdout",
     "output_type": "stream",
     "text": [
      "Welcome to the CBC MILP Solver \n",
      "Version: 2.10.3 \n",
      "Build Date: Dec 15 2019 \n",
      "\n",
      "command line - /opt/anaconda3/envs/aiopt/lib/python3.10/site-packages/pulp/apis/../solverdir/cbc/osx/i64/cbc /var/folders/pl/w3z83xs50653rdq_0shjtkyh0000gn/T/56b7c3f133b64b75acfdac475283420d-pulp.mps -max -timeMode elapsed -branch -printingOptions all -solution /var/folders/pl/w3z83xs50653rdq_0shjtkyh0000gn/T/56b7c3f133b64b75acfdac475283420d-pulp.sol (default strategy 1)\n",
      "At line 2 NAME          MODEL\n",
      "At line 3 ROWS\n",
      "At line 7 COLUMNS\n",
      "At line 14 RHS\n",
      "At line 17 BOUNDS\n",
      "At line 18 ENDATA\n",
      "Problem MODEL has 2 rows, 2 columns and 4 elements\n",
      "Coin0008I MODEL read with 0 errors\n",
      "Option for timeMode changed from cpu to elapsed\n",
      "Presolve 2 (0) rows, 2 (0) columns and 4 (0) elements\n",
      "0  Obj -0 Dual inf 90 (2)\n",
      "0  Obj -0 Dual inf 90 (2)\n",
      "2  Obj 2480\n",
      "Optimal - objective value 2480\n",
      "Optimal objective 2480 - 2 iterations time 0.002\n",
      "Option for printingOptions changed from normal to all\n",
      "Total time (CPU seconds):       0.00   (Wallclock seconds):       0.00\n",
      "\n",
      "📈 Optimization Status: Optimal\n",
      "💰 Maximum Profit: $2,480.00\n",
      "🔹 Optimal production quantity for Product A (x1): 42 units\n",
      "🔹 Optimal production quantity for Product B (x2): 16 units\n"
     ]
    }
   ],
   "source": [
    "import pulp as pl\n",
    "\n",
    "# Define the model\n",
    "model = pl.LpProblem(\"Maximize_Profit\", pl.LpMaximize)\n",
    "\n",
    "# Decision variables\n",
    "x1 = pl.LpVariable(\"x1_ProductA\", lowBound=0)\n",
    "x2 = pl.LpVariable(\"x2_ProductB\", lowBound=0)\n",
    "\n",
    "# Objective function\n",
    "model += 40 * x1 + 50 * x2, \"Total_Profit\"\n",
    "\n",
    "# Constraints\n",
    "model += 2 * x1 + 1 * x2 <= 100, \"Machine_1_Capacity\"\n",
    "model += 1 * x1 + 3 * x2 <= 90, \"Machine_2_Capacity\"\n",
    "\n",
    "# Solve\n",
    "model.solve()\n",
    "\n",
    "# Output\n",
    "print(\"📈 Optimization Status:\", pl.LpStatus[model.status])\n",
    "print(f\"💰 Maximum Profit: ${pl.value(model.objective):,.2f}\")\n",
    "print(f\"🔹 Optimal production quantity for Product A (x1): {x1.varValue:.0f} units\")\n",
    "print(f\"🔹 Optimal production quantity for Product B (x2): {x2.varValue:.0f} units\")\n"
   ]
  },
  {
   "cell_type": "markdown",
   "id": "6b11a9f6-d874-4697-bbd4-9fe1fe866754",
   "metadata": {},
   "source": [
    "## Sensitivity Analysis Results"
   ]
  },
  {
   "cell_type": "code",
   "execution_count": 12,
   "id": "f3d7675d-fae8-4ee1-a2de-fa72c7317889",
   "metadata": {},
   "outputs": [
    {
     "name": "stdout",
     "output_type": "stream",
     "text": [
      "\n",
      "📊 Constraint Sensitivity:\n",
      "Machine_1_Capacity:\n",
      "  Slack = -0.00\n",
      "  Shadow Price (Dual) = 14.00\n",
      "Machine_2_Capacity:\n",
      "  Slack = -0.00\n",
      "  Shadow Price (Dual) = 12.00\n"
     ]
    }
   ],
   "source": [
    "print(\"\\n📊 Constraint Sensitivity:\")\n",
    "for name, constraint in model.constraints.items():\n",
    "    print(f\"{name}:\")\n",
    "    print(f\"  Slack = {constraint.slack:.2f}\")\n",
    "    print(f\"  Shadow Price (Dual) = {constraint.pi:.2f}\")\n"
   ]
  },
  {
   "cell_type": "markdown",
   "id": "359b010b-8281-4f9d-a218-0f336b3feef0",
   "metadata": {},
   "source": [
    "## What-If Scenario Testing"
   ]
  },
  {
   "cell_type": "markdown",
   "id": "ac5f24d8-6d15-44da-874b-c9f08c3848b7",
   "metadata": {},
   "source": [
    "## 🔄 What-If Scenario Testing\n",
    "\n",
    "This section explores how changes to the model parameters (profits, constraints, bounds) affect the optimal solution.\n",
    "\n",
    "| Scenario                        | x1 (A) | x2 (B) | Total Profit | Notes |\n",
    "|---------------------------------|--------|--------|---------------|-------|\n",
    "| ✅ Base Case                    |        |        |               | Starting reference model |\n",
    "| 💲 Product A profit = $35       |        |        |               | Lower incentive for A |\n",
    "| 🕒 Machine 1 capacity = 110     |        |        |               | More machine time available |\n",
    "| 📉 Max 30 units of A            |        |        |               | Simulates supply constraint |\n",
    "| ⚖️ Min 10 units of B           |        |        |               | Forces a policy-driven output |\n"
   ]
  },
  {
   "cell_type": "markdown",
   "id": "2f2c9460-431c-4a80-a3f0-b711e31c7e96",
   "metadata": {},
   "source": [
    "## Part 2: Minimization - Cost"
   ]
  },
  {
   "cell_type": "markdown",
   "id": "1c5a7400-8098-41cd-ba8f-50cb8f9d08d9",
   "metadata": {},
   "source": [
    "## 🔻 Minimization Example – Shipping Cost Optimization\n",
    "\n",
    "A company needs to ship goods from two warehouses to two retail stores.  \n",
    "Each route has a cost per unit, and each location has constraints:\n",
    "\n",
    "- **Warehouses:**\n",
    "  - W1 can ship up to 70 units\n",
    "  - W2 can ship up to 80 units\n",
    "\n",
    "- **Stores:**\n",
    "  - S1 requires 50 units\n",
    "  - S2 requires 100 units\n",
    "\n",
    "- **Shipping costs per unit:**\n",
    "  - W1 → S1: $4\n",
    "  - W1 → S2: $6\n",
    "  - W2 → S1: $5\n",
    "  - W2 → S2: $3\n",
    "\n",
    "### 🎯 Objective:\n",
    "Minimize the total shipping cost while meeting demand and not exceeding supply.\n",
    "\n",
    "---\n",
    "\n",
    "### 🧮 Algebraic Formulation\n",
    "\n",
    "Let:\n",
    "- `x11` = units shipped from W1 to S1  \n",
    "- `x12` = units shipped from W1 to S2  \n",
    "- `x21` = units shipped from W2 to S1  \n",
    "- `x22` = units shipped from W2 to S2\n",
    "\n",
    "**Minimize:**  \n",
    "`Z = 4x11 + 6x12 + 5x21 + 3x22`\n",
    "\n",
    "**Subject to:**  \n",
    "- `x11 + x12 ≤ 70` (W1 capacity)  \n",
    "- `x21 + x22 ≤ 80` (W2 capacity)  \n",
    "- `x11 + x21 ≥\n"
   ]
  },
  {
   "cell_type": "code",
   "execution_count": 13,
   "id": "08cc3637-ca5f-4cd2-9297-a75b23d07bb7",
   "metadata": {},
   "outputs": [
    {
     "name": "stdout",
     "output_type": "stream",
     "text": [
      "Welcome to the CBC MILP Solver \n",
      "Version: 2.10.3 \n",
      "Build Date: Dec 15 2019 \n",
      "\n",
      "command line - /opt/anaconda3/envs/aiopt/lib/python3.10/site-packages/pulp/apis/../solverdir/cbc/osx/i64/cbc /var/folders/pl/w3z83xs50653rdq_0shjtkyh0000gn/T/14cf4736c3ce4b1e9ab265c931c9cea0-pulp.mps -timeMode elapsed -branch -printingOptions all -solution /var/folders/pl/w3z83xs50653rdq_0shjtkyh0000gn/T/14cf4736c3ce4b1e9ab265c931c9cea0-pulp.sol (default strategy 1)\n",
      "At line 2 NAME          MODEL\n",
      "At line 3 ROWS\n",
      "At line 9 COLUMNS\n",
      "At line 22 RHS\n",
      "At line 27 BOUNDS\n",
      "At line 28 ENDATA\n",
      "Problem MODEL has 4 rows, 4 columns and 8 elements\n",
      "Coin0008I MODEL read with 0 errors\n",
      "Option for timeMode changed from cpu to elapsed\n",
      "Presolve 4 (0) rows, 4 (0) columns and 8 (0) elements\n",
      "0  Obj 0 Primal inf 150 (2)\n",
      "3  Obj 560\n",
      "Optimal - objective value 560\n",
      "Optimal objective 560 - 3 iterations time 0.002\n",
      "Option for printingOptions changed from normal to all\n",
      "Total time (CPU seconds):       0.00   (Wallclock seconds):       0.00\n",
      "\n",
      "📉 Optimization Status: Optimal\n",
      "🧾 Minimum Cost: $560.00\n",
      "x11 (W1 → S1): 50 units\n",
      "x12 (W1 → S2): 20 units\n",
      "x21 (W2 → S1): 0 units\n",
      "x22 (W2 → S2): 80 units\n"
     ]
    }
   ],
   "source": [
    "import pulp as pl\n",
    "\n",
    "# Define the model\n",
    "min_model = pl.LpProblem(\"Minimize_Shipping_Cost\", pl.LpMinimize)\n",
    "\n",
    "# Decision variables\n",
    "x11 = pl.LpVariable(\"x11_W1_to_S1\", lowBound=0)\n",
    "x12 = pl.LpVariable(\"x12_W1_to_S2\", lowBound=0)\n",
    "x21 = pl.LpVariable(\"x21_W2_to_S1\", lowBound=0)\n",
    "x22 = pl.LpVariable(\"x22_W2_to_S2\", lowBound=0)\n",
    "\n",
    "# Objective function\n",
    "min_model += 4*x11 + 6*x12 + 5*x21 + 3*x22, \"Total_Shipping_Cost\"\n",
    "\n",
    "# Supply constraints\n",
    "min_model += x11 + x12 <= 70, \"W1_Supply\"\n",
    "min_model += x21 + x22 <= 80, \"W2_Supply\"\n",
    "\n",
    "# Demand constraints\n",
    "min_model += x11 + x21 >= 50, \"S1_Demand\"\n",
    "min_model += x12 + x22 >= 100, \"S2_Demand\"\n",
    "\n",
    "# Solve\n",
    "min_model.solve()\n",
    "\n",
    "# Output\n",
    "print(\"📉 Optimization Status:\", pl.LpStatus[min_model.status])\n",
    "print(f\"🧾 Minimum Cost: ${pl.value(min_model.objective):,.2f}\")\n",
    "print(f\"x11 (W1 → S1): {x11.varValue:.0f} units\")\n",
    "print(f\"x12 (W1 → S2): {x12.varValue:.0f} units\")\n",
    "print(f\"x21 (W2 → S1): {x21.varValue:.0f} units\")\n",
    "print(f\"x22 (W2 → S2): {x22.varValue:.0f} units\")\n"
   ]
  },
  {
   "cell_type": "code",
   "execution_count": 14,
   "id": "761e6cb1-5ce4-4eb1-b013-1ac646737f0c",
   "metadata": {},
   "outputs": [
    {
     "data": {
      "text/html": [
       "<div>\n",
       "<style scoped>\n",
       "    .dataframe tbody tr th:only-of-type {\n",
       "        vertical-align: middle;\n",
       "    }\n",
       "\n",
       "    .dataframe tbody tr th {\n",
       "        vertical-align: top;\n",
       "    }\n",
       "\n",
       "    .dataframe thead th {\n",
       "        text-align: right;\n",
       "    }\n",
       "</style>\n",
       "<table border=\"1\" class=\"dataframe\">\n",
       "  <thead>\n",
       "    <tr style=\"text-align: right;\">\n",
       "      <th></th>\n",
       "      <th>Route</th>\n",
       "      <th>Variable</th>\n",
       "      <th>Cost per Unit</th>\n",
       "      <th>Lower Bound</th>\n",
       "      <th>Upper Bound</th>\n",
       "    </tr>\n",
       "  </thead>\n",
       "  <tbody>\n",
       "    <tr>\n",
       "      <th>0</th>\n",
       "      <td>W1 → S1</td>\n",
       "      <td>x11</td>\n",
       "      <td>4</td>\n",
       "      <td>0</td>\n",
       "      <td>inf</td>\n",
       "    </tr>\n",
       "    <tr>\n",
       "      <th>1</th>\n",
       "      <td>W1 → S2</td>\n",
       "      <td>x12</td>\n",
       "      <td>6</td>\n",
       "      <td>0</td>\n",
       "      <td>inf</td>\n",
       "    </tr>\n",
       "    <tr>\n",
       "      <th>2</th>\n",
       "      <td>W2 → S1</td>\n",
       "      <td>x21</td>\n",
       "      <td>5</td>\n",
       "      <td>0</td>\n",
       "      <td>inf</td>\n",
       "    </tr>\n",
       "    <tr>\n",
       "      <th>3</th>\n",
       "      <td>W2 → S2</td>\n",
       "      <td>x22</td>\n",
       "      <td>3</td>\n",
       "      <td>0</td>\n",
       "      <td>inf</td>\n",
       "    </tr>\n",
       "  </tbody>\n",
       "</table>\n",
       "</div>"
      ],
      "text/plain": [
       "     Route Variable  Cost per Unit  Lower Bound  Upper Bound\n",
       "0  W1 → S1      x11              4            0          inf\n",
       "1  W1 → S2      x12              6            0          inf\n",
       "2  W2 → S1      x21              5            0          inf\n",
       "3  W2 → S2      x22              3            0          inf"
      ]
     },
     "metadata": {},
     "output_type": "display_data"
    },
    {
     "data": {
      "text/html": [
       "<div>\n",
       "<style scoped>\n",
       "    .dataframe tbody tr th:only-of-type {\n",
       "        vertical-align: middle;\n",
       "    }\n",
       "\n",
       "    .dataframe tbody tr th {\n",
       "        vertical-align: top;\n",
       "    }\n",
       "\n",
       "    .dataframe thead th {\n",
       "        text-align: right;\n",
       "    }\n",
       "</style>\n",
       "<table border=\"1\" class=\"dataframe\">\n",
       "  <thead>\n",
       "    <tr style=\"text-align: right;\">\n",
       "      <th></th>\n",
       "      <th>Constraint</th>\n",
       "      <th>Equation (LHS)</th>\n",
       "      <th>Sense</th>\n",
       "      <th>RHS Value</th>\n",
       "    </tr>\n",
       "  </thead>\n",
       "  <tbody>\n",
       "    <tr>\n",
       "      <th>0</th>\n",
       "      <td>W1 Supply</td>\n",
       "      <td>x11 + x12</td>\n",
       "      <td>≤</td>\n",
       "      <td>70</td>\n",
       "    </tr>\n",
       "    <tr>\n",
       "      <th>1</th>\n",
       "      <td>W2 Supply</td>\n",
       "      <td>x21 + x22</td>\n",
       "      <td>≤</td>\n",
       "      <td>80</td>\n",
       "    </tr>\n",
       "    <tr>\n",
       "      <th>2</th>\n",
       "      <td>S1 Demand</td>\n",
       "      <td>x11 + x21</td>\n",
       "      <td>≥</td>\n",
       "      <td>50</td>\n",
       "    </tr>\n",
       "    <tr>\n",
       "      <th>3</th>\n",
       "      <td>S2 Demand</td>\n",
       "      <td>x12 + x22</td>\n",
       "      <td>≥</td>\n",
       "      <td>100</td>\n",
       "    </tr>\n",
       "  </tbody>\n",
       "</table>\n",
       "</div>"
      ],
      "text/plain": [
       "  Constraint Equation (LHS) Sense  RHS Value\n",
       "0  W1 Supply      x11 + x12     ≤         70\n",
       "1  W2 Supply      x21 + x22     ≤         80\n",
       "2  S1 Demand      x11 + x21     ≥         50\n",
       "3  S2 Demand      x12 + x22     ≥        100"
      ]
     },
     "metadata": {},
     "output_type": "display_data"
    }
   ],
   "source": [
    "import pandas as pd\n",
    "\n",
    "# Decision variable summary\n",
    "shipping_table = pd.DataFrame({\n",
    "    \"Route\": [\"W1 → S1\", \"W1 → S2\", \"W2 → S1\", \"W2 → S2\"],\n",
    "    \"Variable\": [\"x11\", \"x12\", \"x21\", \"x22\"],\n",
    "    \"Cost per Unit\": [4, 6, 5, 3],\n",
    "    \"Lower Bound\": [0, 0, 0, 0],\n",
    "    \"Upper Bound\": [float('inf'), float('inf'), float('inf'), float('inf')]\n",
    "})\n",
    "\n",
    "display(shipping_table)\n",
    "\n",
    "# Constraint summary\n",
    "constraints_table = pd.DataFrame({\n",
    "    \"Constraint\": [\"W1 Supply\", \"W2 Supply\", \"S1 Demand\", \"S2 Demand\"],\n",
    "    \"Equation (LHS)\": [\n",
    "        \"x11 + x12\",\n",
    "        \"x21 + x22\",\n",
    "        \"x11 + x21\",\n",
    "        \"x12 + x22\"\n",
    "    ],\n",
    "    \"Sense\": [\"≤\", \"≤\", \"≥\", \"≥\"],\n",
    "    \"RHS Value\": [70, 80, 50, 100]\n",
    "})\n",
    "\n",
    "display(constraints_table)\n"
   ]
  },
  {
   "cell_type": "markdown",
   "id": "40b6e707-379a-497e-bda0-711b22e230aa",
   "metadata": {},
   "source": [
    "## Scenario Selector"
   ]
  },
  {
   "cell_type": "code",
   "execution_count": 15,
   "id": "071361b4-9688-4d23-a02b-551dd553c72f",
   "metadata": {},
   "outputs": [
    {
     "name": "stdout",
     "output_type": "stream",
     "text": [
      "Requirement already satisfied: ipywidgets in /opt/anaconda3/envs/aiopt/lib/python3.10/site-packages (8.1.7)\n",
      "Requirement already satisfied: comm>=0.1.3 in /opt/anaconda3/envs/aiopt/lib/python3.10/site-packages (from ipywidgets) (0.2.2)\n",
      "Requirement already satisfied: ipython>=6.1.0 in /opt/anaconda3/envs/aiopt/lib/python3.10/site-packages (from ipywidgets) (8.36.0)\n",
      "Requirement already satisfied: traitlets>=4.3.1 in /opt/anaconda3/envs/aiopt/lib/python3.10/site-packages (from ipywidgets) (5.14.3)\n",
      "Requirement already satisfied: widgetsnbextension~=4.0.14 in /opt/anaconda3/envs/aiopt/lib/python3.10/site-packages (from ipywidgets) (4.0.14)\n",
      "Requirement already satisfied: jupyterlab_widgets~=3.0.15 in /opt/anaconda3/envs/aiopt/lib/python3.10/site-packages (from ipywidgets) (3.0.15)\n",
      "Requirement already satisfied: decorator in /opt/anaconda3/envs/aiopt/lib/python3.10/site-packages (from ipython>=6.1.0->ipywidgets) (5.2.1)\n",
      "Requirement already satisfied: exceptiongroup in /opt/anaconda3/envs/aiopt/lib/python3.10/site-packages (from ipython>=6.1.0->ipywidgets) (1.3.0)\n",
      "Requirement already satisfied: jedi>=0.16 in /opt/anaconda3/envs/aiopt/lib/python3.10/site-packages (from ipython>=6.1.0->ipywidgets) (0.19.2)\n",
      "Requirement already satisfied: matplotlib-inline in /opt/anaconda3/envs/aiopt/lib/python3.10/site-packages (from ipython>=6.1.0->ipywidgets) (0.1.7)\n",
      "Requirement already satisfied: pexpect>4.3 in /opt/anaconda3/envs/aiopt/lib/python3.10/site-packages (from ipython>=6.1.0->ipywidgets) (4.9.0)\n",
      "Requirement already satisfied: prompt_toolkit<3.1.0,>=3.0.41 in /opt/anaconda3/envs/aiopt/lib/python3.10/site-packages (from ipython>=6.1.0->ipywidgets) (3.0.51)\n",
      "Requirement already satisfied: pygments>=2.4.0 in /opt/anaconda3/envs/aiopt/lib/python3.10/site-packages (from ipython>=6.1.0->ipywidgets) (2.19.1)\n",
      "Requirement already satisfied: stack_data in /opt/anaconda3/envs/aiopt/lib/python3.10/site-packages (from ipython>=6.1.0->ipywidgets) (0.6.3)\n",
      "Requirement already satisfied: typing_extensions>=4.6 in /opt/anaconda3/envs/aiopt/lib/python3.10/site-packages (from ipython>=6.1.0->ipywidgets) (4.13.2)\n",
      "Requirement already satisfied: wcwidth in /opt/anaconda3/envs/aiopt/lib/python3.10/site-packages (from prompt_toolkit<3.1.0,>=3.0.41->ipython>=6.1.0->ipywidgets) (0.2.13)\n",
      "Requirement already satisfied: parso<0.9.0,>=0.8.4 in /opt/anaconda3/envs/aiopt/lib/python3.10/site-packages (from jedi>=0.16->ipython>=6.1.0->ipywidgets) (0.8.4)\n",
      "Requirement already satisfied: ptyprocess>=0.5 in /opt/anaconda3/envs/aiopt/lib/python3.10/site-packages (from pexpect>4.3->ipython>=6.1.0->ipywidgets) (0.7.0)\n",
      "Requirement already satisfied: executing>=1.2.0 in /opt/anaconda3/envs/aiopt/lib/python3.10/site-packages (from stack_data->ipython>=6.1.0->ipywidgets) (2.2.0)\n",
      "Requirement already satisfied: asttokens>=2.1.0 in /opt/anaconda3/envs/aiopt/lib/python3.10/site-packages (from stack_data->ipython>=6.1.0->ipywidgets) (3.0.0)\n",
      "Requirement already satisfied: pure_eval in /opt/anaconda3/envs/aiopt/lib/python3.10/site-packages (from stack_data->ipython>=6.1.0->ipywidgets) (0.2.3)\n"
     ]
    }
   ],
   "source": [
    "!pip install ipywidgets"
   ]
  },
  {
   "cell_type": "markdown",
   "id": "80aeb614-1a4c-437f-a95a-d7295c4322fd",
   "metadata": {},
   "source": [
    "## 🎛️ Interactive Scenario Selector\n",
    "\n",
    "Use the dropdown menu below to select a supply chain scenario.  \n",
    "The model will adjust supply, demand, or cost inputs based on your selection.\n",
    "\n",
    "You can re-run the dropdown at any time to test different \"what-if\" cases.\n",
    "\n",
    "**Scenarios included:**\n",
    "- Base case with original supply/costs\n",
    "- Increased supply at Warehouse 1\n",
    "- Higher shipping cost from W2 → S1\n",
    "- Increased demand at Store 2\n"
   ]
  },
  {
   "cell_type": "code",
   "execution_count": 16,
   "id": "403ee732-d6e6-4aa5-8a8b-64a34e320767",
   "metadata": {},
   "outputs": [
    {
     "data": {
      "application/vnd.jupyter.widget-view+json": {
       "model_id": "8dd702a367534921a15865842a97c9cf",
       "version_major": 2,
       "version_minor": 0
      },
      "text/plain": [
       "Dropdown(description='Scenario:', options=(('Base Case', 'base'), ('More supply at W1 (90 units)', 'more_w1'),…"
      ]
     },
     "metadata": {},
     "output_type": "display_data"
    }
   ],
   "source": [
    "import ipywidgets as widgets\n",
    "from IPython.display import display\n",
    "\n",
    "# Define dropdown options\n",
    "scenario_dropdown = widgets.Dropdown(\n",
    "    options=[\n",
    "        (\"Base Case\", \"base\"),\n",
    "        (\"More supply at W1 (90 units)\", \"more_w1\"),\n",
    "        (\"Higher cost W2 → S1 ($8)\", \"cost_up_w21\"),\n",
    "        (\"New demand at S2 (120 units)\", \"more_demand_s2\")\n",
    "    ],\n",
    "    description=\"Scenario:\"\n",
    ")\n",
    "\n",
    "display(scenario_dropdown)\n"
   ]
  },
  {
   "cell_type": "code",
   "execution_count": 17,
   "id": "3dce7bbe-79e9-4c20-a017-40168ce6f760",
   "metadata": {},
   "outputs": [],
   "source": [
    "def run_shipping_scenario(scenario_code):\n",
    "    # Setup the model\n",
    "    model = pl.LpProblem(\"ShippingCostMinimization\", pl.LpMinimize)\n",
    "\n",
    "    # Base parameters\n",
    "    supply_w1 = 70\n",
    "    supply_w2 = 80\n",
    "    demand_s1 = 50\n",
    "    demand_s2 = 100\n",
    "    cost_x11 = 4\n",
    "    cost_x12 = 6\n",
    "    cost_x21 = 5\n",
    "    cost_x22 = 3\n",
    "\n",
    "    # Apply scenario overrides\n",
    "    if scenario_code == \"more_w1\":\n",
    "        supply_w1 = 90\n",
    "    elif scenario_code == \"cost_up_w21\":\n",
    "        cost_x21 = 8\n",
    "    elif scenario_code == \"more_demand_s2\":\n",
    "        demand_s2 = 120\n",
    "\n",
    "    # Define decision variables\n",
    "    x11 = pl.LpVariable(\"x11_W1_S1\", lowBound=0)\n",
    "    x12 = pl.LpVariable(\"x12_W1_S2\", lowBound=0)\n",
    "    x21 = pl.LpVariable(\"x21_W2_S1\", lowBound=0)\n",
    "    x22 = pl.LpVariable(\"x22_W2_S2\", lowBound=0)\n",
    "\n",
    "    # Objective function\n",
    "    model += (\n",
    "        cost_x11 * x11 +\n",
    "        cost_x12 * x12 +\n",
    "        cost_x21 * x21 +\n",
    "        cost_x22 * x22,\n",
    "        \"Total_Cost\"\n",
    "    )\n",
    "\n",
    "    # Constraints\n",
    "    model += x11 + x12 <= supply_w1, \"Supply_W1\"\n",
    "    model += x21 + x22 <= supply_w2, \"Supply_W2\"\n",
    "    model += x11 + x21 >= demand_s1, \"Demand_S1\"\n",
    "    model += x12 + x22 >= demand_s2, \"Demand_S2\"\n",
    "\n",
    "    # Solve\n",
    "    model.solve()\n",
    "\n",
    "    # Output\n",
    "    print(f\"\\n📘 Scenario: {scenario_code}\")\n",
    "    print(\"Status:\", pl.LpStatus[model.status])\n",
    "    print(f\"Total Cost = ${pl.value(model.objective):,.2f}\")\n",
    "    print(f\"x11 (W1 → S1): {x11.varValue:.0f} units\")\n",
    "    print(f\"x12 (W1 → S2): {x12.varValue:.0f} units\")\n",
    "    print(f\"x21 (W2 → S1): {x21.varValue:.0f} units\")\n",
    "    print(f\"x22 (W2 → S2): {x22.varValue:.0f} units\")\n",
    "\n",
    " # Optional Chart\n",
    "    routes = [\"W1 → S1\", \"W1 → S2\", \"W2 → S1\", \"W2 → S2\"]\n",
    "    quantities = [x11.varValue, x12.varValue, x21.varValue, x22.varValue]\n",
    "\n",
    "    plt.figure(figsize=(6, 4))\n",
    "    plt.bar(routes, quantities, color=\"teal\")\n",
    "    plt.title(\"📦 Optimal Units Shipped per Route\")\n",
    "    plt.ylabel(\"Units\")\n",
    "    plt.xlabel(\"Route\")\n",
    "    plt.ylim(0, max(quantities) + 10)\n",
    "    plt.grid(axis=\"y\", linestyle=\"--\", alpha=0.5)\n",
    "    plt.show()"
   ]
  },
  {
   "cell_type": "markdown",
   "id": "b5a26cfd-f5aa-4660-a196-793fb6c51b60",
   "metadata": {},
   "source": [
    "## Visual: Optimal Shipments Chart"
   ]
  },
  {
   "cell_type": "code",
   "execution_count": 18,
   "id": "116e1682-0da3-40ff-a4e6-b866407cd3a8",
   "metadata": {},
   "outputs": [],
   "source": [
    "### if not run prior... add import pulp as pl"
   ]
  },
  {
   "cell_type": "code",
   "execution_count": 19,
   "id": "96162d8e-8c3c-477c-8feb-d16ef838f07c",
   "metadata": {},
   "outputs": [
    {
     "name": "stdout",
     "output_type": "stream",
     "text": [
      "Welcome to the CBC MILP Solver \n",
      "Version: 2.10.3 \n",
      "Build Date: Dec 15 2019 \n",
      "\n",
      "command line - /opt/anaconda3/envs/aiopt/lib/python3.10/site-packages/pulp/apis/../solverdir/cbc/osx/i64/cbc /var/folders/pl/w3z83xs50653rdq_0shjtkyh0000gn/T/3c14eef6f282464bb1abeb7e801c3c01-pulp.mps -timeMode elapsed -branch -printingOptions all -solution /var/folders/pl/w3z83xs50653rdq_0shjtkyh0000gn/T/3c14eef6f282464bb1abeb7e801c3c01-pulp.sol (default strategy 1)\n",
      "At line 2 NAME          MODEL\n",
      "At line 3 ROWS\n",
      "At line 9 COLUMNS\n",
      "At line 22 RHS\n",
      "At line 27 BOUNDS\n",
      "At line 28 ENDATA\n",
      "Problem MODEL has 4 rows, 4 columns and 8 elements\n",
      "Coin0008I MODEL read with 0 errors\n",
      "Option for timeMode changed from cpu to elapsed\n",
      "Presolve 4 (0) rows, 4 (0) columns and 8 (0) elements\n",
      "0  Obj 0 Primal inf 150 (2)\n",
      "3  Obj 560\n",
      "Optimal - objective value 560\n",
      "Optimal objective 560 - 3 iterations time 0.002\n",
      "Option for printingOptions changed from normal to all\n",
      "Total time (CPU seconds):       0.00   (Wallclock seconds):       0.00\n",
      "\n",
      "\n",
      "📘 Scenario: base\n",
      "Status: Optimal\n",
      "Total Cost = $560.00\n",
      "x11 (W1 → S1): 50 units\n",
      "x12 (W1 → S2): 20 units\n",
      "x21 (W2 → S1): 0 units\n",
      "x22 (W2 → S2): 80 units\n"
     ]
    },
    {
     "name": "stderr",
     "output_type": "stream",
     "text": [
      "/opt/anaconda3/envs/aiopt/lib/python3.10/site-packages/IPython/core/pylabtools.py:170: UserWarning: Glyph 128230 (\\N{PACKAGE}) missing from font(s) DejaVu Sans.\n",
      "  fig.canvas.print_figure(bytes_io, **kw)\n"
     ]
    },
    {
     "data": {
      "image/png": "[encoded data removed]",
      "text/plain": [
       "<Figure size 600x400 with 1 Axes>"
      ]
     },
     "metadata": {},
     "output_type": "display_data"
    }
   ],
   "source": [
    "# Run the scenario selected in the dropdown\n",
    "run_shipping_scenario(scenario_dropdown.value)"
   ]
  },
  {
   "cell_type": "code",
   "execution_count": 20,
   "id": "9cf92abf-4b0a-470d-863b-8e612ab34442",
   "metadata": {},
   "outputs": [
    {
     "data": {
      "image/png": "[encoded data removed]",
      "text/plain": [
       "<Figure size 600x400 with 1 Axes>"
      ]
     },
     "metadata": {},
     "output_type": "display_data"
    }
   ],
   "source": [
    "import matplotlib.pyplot as plt\n",
    "\n",
    "routes = [\"W1 → S1\", \"W1 → S2\", \"W2 → S1\", \"W2 → S2\"]\n",
    "quantities = [x11.varValue, x12.varValue, x21.varValue, x22.varValue]\n",
    "\n",
    "plt.figure(figsize=(6,4))\n",
    "plt.bar(routes, quantities, color=\"teal\")\n",
    "plt.title(\"📦 Optimal Units Shipped per Route\")\n",
    "plt.ylabel(\"Units\")\n",
    "plt.xlabel(\"Route\")\n",
    "plt.ylim(0, max(quantities) + 10)\n",
    "plt.grid(axis='y', linestyle='--', alpha=0.5)\n",
    "plt.show()\n"
   ]
  },
  {
   "cell_type": "code",
   "execution_count": null,
   "id": "3bdab3a9-ee1e-4ada-a00f-13033c9740ea",
   "metadata": {},
   "outputs": [],
   "source": []
  }
 ],
 "metadata": {
  "kernelspec": {
   "display_name": "Python 3 (ipykernel)",
   "language": "python",
   "name": "python3"
  },
  "language_info": {
   "codemirror_mode": {
    "name": "ipython",
    "version": 3
   },
   "file_extension": ".py",
   "mimetype": "text/x-python",
   "name": "python",
   "nbconvert_exporter": "python",
   "pygments_lexer": "ipython3",
   "version": "3.10.16"
  }
 },
 "nbformat": 4,
 "nbformat_minor": 5
}
