{
 "cells": [
  {
   "cell_type": "markdown",
   "id": "a03b017d-8d4c-44eb-9f47-b7746c1b7f43",
   "metadata": {},
   "source": [
    "# Linear Programming Maximization Template\n",
    "\n",
    "## Table of Contents\n",
    "1. [Data Entry](#data-entry)\n",
    "2. [Display Problem Data](#display-problem-data)\n",
    "3. [Build and Solve the Model](#build-and-solve-the-model)\n",
    "4. [Display Solution Table](#display-solution-table)\n",
    "5. [Graphed Solution (Feasible Region and Optimal Point)](#graphed-solution-feasible-region-and-optimal-point)\n",
    "6. [Visualize Solution (Bar Chart)](#visualize-solution-bar-chart)\n",
    "7. [Visualize Solution (Horizontal Bar Chart)](#visualize-solution-horizontal-bar-chart)\n",
    "8. [Notes](#notes)"
   ]
  },
  {
   "cell_type": "markdown",
   "id": "a1b34125-5e5e-4b45-b176-9ce9df01ac44",
   "metadata": {},
   "source": [
    "# Linear Programming Maximization Template\n",
    "\n",
    "This notebook helps you solve maximization linear programming problems with 3 or 4 variables using PuLP.  \n",
    "**Instructions:**  \n",
    "- Enter your problem data in the \"Data Entry\" cell below.  \n",
    "- Run each cell in order.  \n",
    "- The notebook will display your variables, constraints, the optimal solution, and a bar chart of the results.\n",
    "\n",
    "---\n",
    "\n",
    "## 1. Data Entry <a id=\"data-entry\"></a>\n",
    "\n",
    "**Edit only this cell to define your problem.**  \n",
    "- `var_names`: List your variable names (e.g., `['x1', 'x2', 'x3']` or `['x1', 'x2', 'x3', 'x4']`)\n",
    "- `objective_coefs`: Coefficients for the objective function (same order as `var_names`)\n",
    "- `bounds`: Lower and upper bounds for each variable (use `None` for no upper bound)\n",
    "- `constraints`: Each constraint is a tuple: (list of coefficients, sense, RHS).  \n",
    "  - Senses: `'<='`, `'>='`, or `'='`\n",
    "  - Coefficient lists must match the number of variables."
   ]
  },
  {
   "cell_type": "code",
   "execution_count": 4,
   "id": "e48268cc-fe1e-4fdf-a8ea-4e795c759360",
   "metadata": {},
   "outputs": [],
   "source": [
    "# --- DATA ENTRY ---\n",
    "\n",
    "# Variable names\n",
    "var_names = ['x1', 'x2', 'x3']\n",
    "\n",
    "# Objective coefficients (maximize 40x1 + 30x2 + 25x3)\n",
    "objective_coefs = [40, 30, 25]\n",
    "\n",
    "# Variable bounds (lower, upper) for each variable\n",
    "bounds = [(0, None)] * 3  # All variables >= 0\n",
    "\n",
    "# Constraints: ([coefs], sense, rhs)\n",
    "constraints = [\n",
    "    ([2, 3, 1], '<=', 100),  # 2x1 + 3x2 + 1x3 <= 100\n",
    "    ([1, 2, 3], '<=', 80),   # 1x1 + 2x2 + 3x3 <= 80\n",
    "    ([3, 1, 2], '<=', 90)    # 3x1 + 1x2 + 2x3 <= 90\n",
    "]"
   ]
  },
  {
   "cell_type": "markdown",
   "id": "7e52d8ce-020c-40a3-a1b6-f51aa38a4e1d",
   "metadata": {},
   "source": [
    "## 2. Display Problem Data <a id=\"display-problem-data\"></a>\n",
    "\n",
    "This cell displays your vaiables and constraints as tables for easy review. "
   ]
  },
  {
   "cell_type": "code",
   "execution_count": 5,
   "id": "5412ebd8-fa23-4712-8272-e66dbbf1e24e",
   "metadata": {
    "scrolled": true
   },
   "outputs": [
    {
     "data": {
      "text/html": [
       "<div>\n",
       "<style scoped>\n",
       "    .dataframe tbody tr th:only-of-type {\n",
       "        vertical-align: middle;\n",
       "    }\n",
       "\n",
       "    .dataframe tbody tr th {\n",
       "        vertical-align: top;\n",
       "    }\n",
       "\n",
       "    .dataframe thead th {\n",
       "        text-align: right;\n",
       "    }\n",
       "</style>\n",
       "<table border=\"1\" class=\"dataframe\">\n",
       "  <thead>\n",
       "    <tr style=\"text-align: right;\">\n",
       "      <th></th>\n",
       "      <th>Variable</th>\n",
       "      <th>Objective Coef</th>\n",
       "      <th>Lower Bound</th>\n",
       "      <th>Upper Bound</th>\n",
       "    </tr>\n",
       "  </thead>\n",
       "  <tbody>\n",
       "    <tr>\n",
       "      <th>0</th>\n",
       "      <td>x1</td>\n",
       "      <td>40</td>\n",
       "      <td>0</td>\n",
       "      <td>None</td>\n",
       "    </tr>\n",
       "    <tr>\n",
       "      <th>1</th>\n",
       "      <td>x2</td>\n",
       "      <td>30</td>\n",
       "      <td>0</td>\n",
       "      <td>None</td>\n",
       "    </tr>\n",
       "    <tr>\n",
       "      <th>2</th>\n",
       "      <td>x3</td>\n",
       "      <td>25</td>\n",
       "      <td>0</td>\n",
       "      <td>None</td>\n",
       "    </tr>\n",
       "  </tbody>\n",
       "</table>\n",
       "</div>"
      ],
      "text/plain": [
       "  Variable  Objective Coef  Lower Bound Upper Bound\n",
       "0       x1              40            0        None\n",
       "1       x2              30            0        None\n",
       "2       x3              25            0        None"
      ]
     },
     "metadata": {},
     "output_type": "display_data"
    },
    {
     "data": {
      "text/html": [
       "<div>\n",
       "<style scoped>\n",
       "    .dataframe tbody tr th:only-of-type {\n",
       "        vertical-align: middle;\n",
       "    }\n",
       "\n",
       "    .dataframe tbody tr th {\n",
       "        vertical-align: top;\n",
       "    }\n",
       "\n",
       "    .dataframe thead th {\n",
       "        text-align: right;\n",
       "    }\n",
       "</style>\n",
       "<table border=\"1\" class=\"dataframe\">\n",
       "  <thead>\n",
       "    <tr style=\"text-align: right;\">\n",
       "      <th></th>\n",
       "      <th>x1</th>\n",
       "      <th>x2</th>\n",
       "      <th>x3</th>\n",
       "      <th>Sense</th>\n",
       "      <th>RHS</th>\n",
       "    </tr>\n",
       "  </thead>\n",
       "  <tbody>\n",
       "    <tr>\n",
       "      <th>0</th>\n",
       "      <td>2</td>\n",
       "      <td>3</td>\n",
       "      <td>1</td>\n",
       "      <td>&lt;=</td>\n",
       "      <td>100</td>\n",
       "    </tr>\n",
       "    <tr>\n",
       "      <th>1</th>\n",
       "      <td>1</td>\n",
       "      <td>2</td>\n",
       "      <td>3</td>\n",
       "      <td>&lt;=</td>\n",
       "      <td>80</td>\n",
       "    </tr>\n",
       "    <tr>\n",
       "      <th>2</th>\n",
       "      <td>3</td>\n",
       "      <td>1</td>\n",
       "      <td>2</td>\n",
       "      <td>&lt;=</td>\n",
       "      <td>90</td>\n",
       "    </tr>\n",
       "  </tbody>\n",
       "</table>\n",
       "</div>"
      ],
      "text/plain": [
       "   x1  x2  x3 Sense  RHS\n",
       "0   2   3   1    <=  100\n",
       "1   1   2   3    <=   80\n",
       "2   3   1   2    <=   90"
      ]
     },
     "metadata": {},
     "output_type": "display_data"
    }
   ],
   "source": [
    "import pandas as pd\n",
    "\n",
    "# Variables table\n",
    "var_df = pd.DataFrame({\n",
    "    'Variable': var_names,\n",
    "    'Objective Coef': objective_coefs,\n",
    "    'Lower Bound': [b[0] for b in bounds],\n",
    "    'Upper Bound': [b[1] for b in bounds]\n",
    "})\n",
    "display(var_df)\n",
    "\n",
    "# Constraints table\n",
    "con_data = []\n",
    "for i, (coefs, sense, rhs) in enumerate(constraints):\n",
    "    row = {var_names[j]: coefs[j] for j in range(len(var_names))}\n",
    "    row['Sense'] = sense\n",
    "    row['RHS'] = rhs\n",
    "    con_data.append(row)\n",
    "con_df = pd.DataFrame(con_data)\n",
    "display(con_df)"
   ]
  },
  {
   "cell_type": "markdown",
   "id": "31160c31-1955-4401-8dd3-1f8c893d9ba1",
   "metadata": {},
   "source": [
    "## 3. Build and Solve the Model <a id=\"build-and-solve-the-model\"></a>\n",
    "This cell builds and solves the maximization problem using PuLP."
   ]
  },
  {
   "cell_type": "code",
   "execution_count": 6,
   "id": "91c12f1d-89a5-4ec5-b38d-81d8ab855e2c",
   "metadata": {},
   "outputs": [
    {
     "name": "stdout",
     "output_type": "stream",
     "text": [
      "Welcome to the CBC MILP Solver \n",
      "Version: 2.10.3 \n",
      "Build Date: Dec 15 2019 \n",
      "\n",
      "command line - /opt/anaconda3/envs/aiopt/lib/python3.10/site-packages/pulp/apis/../solverdir/cbc/osx/i64/cbc /var/folders/pl/w3z83xs50653rdq_0shjtkyh0000gn/T/b28e9ab8562249ea85b4e791a196f5d4-pulp.mps -max -timeMode elapsed -branch -printingOptions all -solution /var/folders/pl/w3z83xs50653rdq_0shjtkyh0000gn/T/b28e9ab8562249ea85b4e791a196f5d4-pulp.sol (default strategy 1)\n",
      "At line 2 NAME          MODEL\n",
      "At line 3 ROWS\n",
      "At line 8 COLUMNS\n",
      "At line 21 RHS\n",
      "At line 25 BOUNDS\n",
      "At line 26 ENDATA\n",
      "Problem MODEL has 3 rows, 3 columns and 9 elements\n",
      "Coin0008I MODEL read with 0 errors\n",
      "Option for timeMode changed from cpu to elapsed\n",
      "Presolve 3 (0) rows, 3 (0) columns and 9 (0) elements\n",
      "0  Obj -0 Dual inf 95 (3)\n",
      "0  Obj -0 Dual inf 95 (3)\n",
      "3  Obj 1491.6667\n",
      "Optimal - objective value 1491.6667\n",
      "Optimal objective 1491.666667 - 3 iterations time 0.002\n",
      "Option for printingOptions changed from normal to all\n",
      "Total time (CPU seconds):       0.00   (Wallclock seconds):       0.01\n",
      "\n"
     ]
    },
    {
     "data": {
      "text/plain": [
       "1"
      ]
     },
     "execution_count": 6,
     "metadata": {},
     "output_type": "execute_result"
    }
   ],
   "source": [
    "import pulp as pl\n",
    "\n",
    "# Create the model\n",
    "model = pl.LpProblem(\"Maximization_Problem\", pl.LpMaximize)\n",
    "\n",
    "# Create variables\n",
    "vars = [pl.LpVariable(var_names[i], lowBound=bounds[i][0], upBound=bounds[i][1]) for i in range(len(var_names))]\n",
    "\n",
    "# Add objective function\n",
    "model += pl.lpSum([objective_coefs[i] * vars[i] for i in range(len(var_names))]), \"Objective\"\n",
    "\n",
    "# Add constraints\n",
    "for i, (coefs, sense, rhs) in enumerate(constraints):\n",
    "    expr = pl.lpSum([coefs[j] * vars[j] for j in range(len(var_names))])\n",
    "    if sense == '<=':\n",
    "        model += (expr <= rhs, f\"Constraint_{i+1}\")\n",
    "    elif sense == '>=':\n",
    "        model += (expr >= rhs, f\"Constraint_{i+1}\")\n",
    "    elif sense == '=':\n",
    "        model += (expr == rhs, f\"Constraint_{i+1}\")\n",
    "\n",
    "# Solve the model\n",
    "model.solve()"
   ]
  },
  {
   "cell_type": "markdown",
   "id": "e2620f6a-bab9-42bc-8cb8-00972f1d5a1e",
   "metadata": {},
   "source": [
    "## 4. Display Solution Table <a id=\"display-solution-table\"></a>\n",
    "\n",
    "This cell prints the optimal soluiton in a table."
   ]
  },
  {
   "cell_type": "code",
   "execution_count": 7,
   "id": "01a079ad-fa6e-454d-9013-535e37cce79a",
   "metadata": {},
   "outputs": [
    {
     "data": {
      "text/html": [
       "<div>\n",
       "<style scoped>\n",
       "    .dataframe tbody tr th:only-of-type {\n",
       "        vertical-align: middle;\n",
       "    }\n",
       "\n",
       "    .dataframe tbody tr th {\n",
       "        vertical-align: top;\n",
       "    }\n",
       "\n",
       "    .dataframe thead th {\n",
       "        text-align: right;\n",
       "    }\n",
       "</style>\n",
       "<table border=\"1\" class=\"dataframe\">\n",
       "  <thead>\n",
       "    <tr style=\"text-align: right;\">\n",
       "      <th></th>\n",
       "      <th>Variable</th>\n",
       "      <th>Optimal Value</th>\n",
       "    </tr>\n",
       "  </thead>\n",
       "  <tbody>\n",
       "    <tr>\n",
       "      <th>0</th>\n",
       "      <td>x1</td>\n",
       "      <td>18.333333</td>\n",
       "    </tr>\n",
       "    <tr>\n",
       "      <th>1</th>\n",
       "      <td>x2</td>\n",
       "      <td>18.333333</td>\n",
       "    </tr>\n",
       "    <tr>\n",
       "      <th>2</th>\n",
       "      <td>x3</td>\n",
       "      <td>8.333333</td>\n",
       "    </tr>\n",
       "  </tbody>\n",
       "</table>\n",
       "</div>"
      ],
      "text/plain": [
       "  Variable  Optimal Value\n",
       "0       x1      18.333333\n",
       "1       x2      18.333333\n",
       "2       x3       8.333333"
      ]
     },
     "metadata": {},
     "output_type": "display_data"
    },
    {
     "name": "stdout",
     "output_type": "stream",
     "text": [
      "Objective Value: 1491.67\n",
      "Status: Optimal\n"
     ]
    }
   ],
   "source": [
    "# Solution table\n",
    "solution_df = pd.DataFrame({\n",
    "    'Variable': var_names,\n",
    "    'Optimal Value': [v.varValue for v in model.variables()]\n",
    "})\n",
    "display(solution_df)\n",
    "\n",
    "print(f\"Objective Value: {pl.value(model.objective):.2f}\")\n",
    "print(f\"Status: {pl.LpStatus[model.status]}\")"
   ]
  },
  {
   "cell_type": "markdown",
   "id": "c227a232-9127-4af4-a983-87807fe7e4c9",
   "metadata": {},
   "source": [
    "## 5. Graphed Solution (Feasible Region and Optimal Point) <a id=\"graphed-solution-feasible-region-and-optimal-point\"></a>"
   ]
  },
  {
   "cell_type": "code",
   "execution_count": null,
   "id": "12d976ce-7638-4b8e-a8e9-15becc52d19b",
   "metadata": {},
   "outputs": [],
   "source": [
    "import numpy as np\n",
    "import matplotlib.pyplot as plt\n",
    "\n",
    "# Only works for 2 variables!\n",
    "if len(var_names) == 2:\n",
    "    x1 = np.linspace(0, max([rhs/coef[0] if coef[0] else 0 for coef, _, rhs in constraints])*1.2, 400)\n",
    "    plt.figure(figsize=(8,6))\n",
    "\n",
    "    # Plot each constraint\n",
    "    for i, (coefs, sense, rhs) in enumerate(constraints):\n",
    "        if coefs[1] != 0:\n",
    "            y = (rhs - coefs[0]*x1) / coefs[1]\n",
    "            plt.plot(x1, y, label=f\"Constraint {i+1}: {coefs[0]}*x1 + {coefs[1]}*x2 {sense} {rhs}\")\n",
    "        else:\n",
    "            plt.axvline(rhs/coefs[0], label=f\"Constraint {i+1}: x1 = {rhs/coefs[0]}\")\n",
    "\n",
    "    # Fill feasible region (brute force grid)\n",
    "    X, Y = np.meshgrid(x1, x1)\n",
    "    feasible = np.ones_like(X, dtype=bool)\n",
    "    for coefs, sense, rhs in constraints:\n",
    "        if sense == '<=':\n",
    "            feasible &= (coefs[0]*X + coefs[1]*Y <= rhs)\n",
    "        elif sense == '>=':\n",
    "            feasible &= (coefs[0]*X + coefs[1]*Y >= rhs)\n",
    "        elif sense == '=':\n",
    "            feasible &= (np.isclose(coefs[0]*X + coefs[1]*Y, rhs))\n",
    "    plt.contourf(X, Y, feasible, levels=[0.5, 1], colors=['#d0f0d0'], alpha=0.5)\n",
    "\n",
    "    # Plot optimal point\n",
    "    opt_x = [v.varValue for v in model.variables()]\n",
    "    plt.plot(opt_x[0], opt_x[1], 'ro', label='Optimal Solution')\n",
    "\n",
    "    # Plot objective function line (z = optimal value)\n",
    "    z = pl.value(model.objective)\n",
    "    if objective_coefs[1] != 0:\n",
    "        y_obj = (z - objective_coefs[0]*x1) / objective_coefs[1]\n",
    "        plt.plot(x1, y_obj, 'k--', label='Objective (z)')\n",
    "\n",
    "    plt.xlim(0, max(x1))\n",
    "    plt.ylim(0, max(x1))\n",
    "    plt.xlabel(var_names[0])\n",
    "    plt.ylabel(var_names[1])\n",
    "    plt.legend()\n",
    "    plt.title('Feasible Region and Optimal Solution')\n",
    "    plt.grid(True)\n",
    "    plt.show()\n",
    "else:\n",
    "    print(\"Feasibility region plot is only available for 2-variable problems.\")"
   ]
  },
  {
   "cell_type": "markdown",
   "id": "6b4e29e7-973b-4522-898e-7a41098d2929",
   "metadata": {},
   "source": [
    "## 6. Visualize Solution (Bar Chart) <a id=\"visualize-solution-bar-chart\"></a>\n",
    "\n",
    "This cell creates a bar chart of optimal variable values. "
   ]
  },
  {
   "cell_type": "markdown",
   "id": "15e7b66b-4dd7-4807-9613-693e41626bfb",
   "metadata": {},
   "source": [
    "import matplotlib.pyplot as plt\n",
    "\n",
    "var_values = [v.varValue for v in model.variables()]\n",
    "plt.figure(figsize=(8, 5))\n",
    "bars = plt.bar(var_names, var_values)\n",
    "plt.xlabel('Variables')\n",
    "plt.ylabel('Optimal Value')\n",
    "plt.title('Optimal Solution')\n",
    "plt.grid(axis='y', linestyle='--', alpha=0.7)\n",
    "\n",
    "# Add value labels\n",
    "for bar in bars:\n",
    "    height = bar.get_height()\n",
    "    plt.text(bar.get_x() + bar.get_width()/2., height, f'{height:.2f}', ha='center', va='bottom')\n",
    "\n",
    "plt.show()"
   ]
  },
  {
   "cell_type": "markdown",
   "id": "7e3ab3aa-0821-441b-a62a-77d3eb6635b5",
   "metadata": {},
   "source": [
    "## 7. Visualize Solution (Horizontal Bar Chart) <a id=\"visualize-solution-horizontal-bar-chart\"></a>"
   ]
  },
  {
   "cell_type": "code",
   "execution_count": 10,
   "id": "e7ac85f3-8fff-4ae8-b169-bf92e95ea33e",
   "metadata": {},
   "outputs": [
    {
     "data": {
      "image/png": "[encoded data removed]",
      "text/plain": [
       "<Figure size 1000x500 with 1 Axes>"
      ]
     },
     "metadata": {},
     "output_type": "display_data"
    }
   ],
   "source": [
    "import matplotlib.pyplot as plt\n",
    "\n",
    "var_values = [v.varValue for v in model.variables()]\n",
    "plt.figure(figsize=(10, max(5, len(var_names) * 0.5)))\n",
    "plt.barh(var_names, var_values)\n",
    "plt.xlabel('Optimal Value')\n",
    "plt.ylabel('Variables')\n",
    "plt.title('Optimal Solution (Horizontal Bar Chart)')\n",
    "plt.grid(axis='x', linestyle='--', alpha=0.7)\n",
    "plt.show()"
   ]
  },
  {
   "cell_type": "markdown",
   "id": "7e2e03ef-b426-48bd-bdc5-028a3b50a9cb",
   "metadata": {},
   "source": [
    "## 8. Notes <a id=\"notes\"></a>"
   ]
  },
  {
   "cell_type": "code",
   "execution_count": null,
   "id": "56c00ef7-8d6f-449d-bdd0-fb0295392391",
   "metadata": {},
   "outputs": [],
   "source": []
  }
 ],
 "metadata": {
  "kernelspec": {
   "display_name": "Python 3 (ipykernel)",
   "language": "python",
   "name": "python3"
  },
  "language_info": {
   "codemirror_mode": {
    "name": "ipython",
    "version": 3
   },
   "file_extension": ".py",
   "mimetype": "text/x-python",
   "name": "python",
   "nbconvert_exporter": "python",
   "pygments_lexer": "ipython3",
   "version": "3.10.16"
  }
 },
 "nbformat": 4,
 "nbformat_minor": 5
}
