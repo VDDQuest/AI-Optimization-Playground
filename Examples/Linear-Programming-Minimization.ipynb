{
 "cells": [
  {
   "cell_type": "markdown",
   "id": "c113cc38-c748-4bab-a7a3-14180149baf5",
   "metadata": {},
   "source": [
    "# Linear Programming Minimization Template\n",
    "\n",
    "## Table of Contents\n",
    "1. Data Entry\n",
    "2. Display Problem Data\n",
    "3. Build and Solve the Model\n",
    "4. Display Solution Table\n",
    "5. Graphed Solution (Feasible Region and Optimal Point)\n",
    "6. Visualize Solution (Bar Chart)\n",
    "7. Sensitivity Analysis (Shadow Prices and Reduced Costs)\n",
    "8. Notes"
   ]
  },
  {
   "cell_type": "markdown",
   "id": "2e04a28c-77e7-469e-a803-cf4b635a783c",
   "metadata": {},
   "source": [
    "## 1. Data Entry\n",
    "\n",
    "**Edit only this cell to define your problem.**  \n",
    "- `var_names`: List your variable names (e.g., `['x1', 'x2', 'x3']` or `['x1', 'x2', 'x3', 'x4']`)\n",
    "- `objective_coefs`: Coefficients for the objective function (same order as `var_names`)\n",
    "- `bounds`: Lower and upper bounds for each variable (use `None` for no upper bound)\n",
    "- `constraints`: Each constraint is a tuple: (list of coefficients, sense, RHS).  \n",
    "  - Senses: `'<='`, `'>='`, or `'='`\n",
    "  - Coefficient lists must match the number of variables."
   ]
  },
  {
   "cell_type": "code",
   "execution_count": 2,
   "id": "65bdf2b8-b4ef-49b5-a376-211b66f1634f",
   "metadata": {},
   "outputs": [],
   "source": [
    "# --- DATA ENTRY ---\n",
    "\n",
    "# Variable names\n",
    "var_names = ['x1', 'x2', 'x3']\n",
    "\n",
    "# Objective coefficients (minimize 10x1 + 12x2 + 15x3)\n",
    "objective_coefs = [10, 12, 15]\n",
    "\n",
    "# Variable bounds (lower, upper) for each variable\n",
    "bounds = [(0, None)] * 3  # All variables >= 0\n",
    "\n",
    "# Constraints: ([coefs], sense, rhs)\n",
    "constraints = [\n",
    "    ([2, 1, 3], '>=', 50),  # 2x1 + 1x2 + 3x3 >= 50\n",
    "    ([1, 3, 1], '>=', 40),  # 1x1 + 3x2 + 1x3 >= 40\n",
    "    ([3, 2, 1], '>=', 45)   # 3x1 + 2x2 + 1x3 >= 45\n",
    "]"
   ]
  },
  {
   "cell_type": "markdown",
   "id": "41eff5c7-c347-4f56-8f60-127b5ed20f9c",
   "metadata": {},
   "source": [
    "## 2. Display Problem Data"
   ]
  },
  {
   "cell_type": "code",
   "execution_count": 3,
   "id": "79155e8a-8287-4dcb-bf63-279aa77067a1",
   "metadata": {},
   "outputs": [
    {
     "data": {
      "text/html": [
       "<div>\n",
       "<style scoped>\n",
       "    .dataframe tbody tr th:only-of-type {\n",
       "        vertical-align: middle;\n",
       "    }\n",
       "\n",
       "    .dataframe tbody tr th {\n",
       "        vertical-align: top;\n",
       "    }\n",
       "\n",
       "    .dataframe thead th {\n",
       "        text-align: right;\n",
       "    }\n",
       "</style>\n",
       "<table border=\"1\" class=\"dataframe\">\n",
       "  <thead>\n",
       "    <tr style=\"text-align: right;\">\n",
       "      <th></th>\n",
       "      <th>Variable</th>\n",
       "      <th>Objective Coef</th>\n",
       "      <th>Lower Bound</th>\n",
       "      <th>Upper Bound</th>\n",
       "    </tr>\n",
       "  </thead>\n",
       "  <tbody>\n",
       "    <tr>\n",
       "      <th>0</th>\n",
       "      <td>x1</td>\n",
       "      <td>10</td>\n",
       "      <td>0</td>\n",
       "      <td>None</td>\n",
       "    </tr>\n",
       "    <tr>\n",
       "      <th>1</th>\n",
       "      <td>x2</td>\n",
       "      <td>12</td>\n",
       "      <td>0</td>\n",
       "      <td>None</td>\n",
       "    </tr>\n",
       "    <tr>\n",
       "      <th>2</th>\n",
       "      <td>x3</td>\n",
       "      <td>15</td>\n",
       "      <td>0</td>\n",
       "      <td>None</td>\n",
       "    </tr>\n",
       "  </tbody>\n",
       "</table>\n",
       "</div>"
      ],
      "text/plain": [
       "  Variable  Objective Coef  Lower Bound Upper Bound\n",
       "0       x1              10            0        None\n",
       "1       x2              12            0        None\n",
       "2       x3              15            0        None"
      ]
     },
     "metadata": {},
     "output_type": "display_data"
    },
    {
     "data": {
      "text/html": [
       "<div>\n",
       "<style scoped>\n",
       "    .dataframe tbody tr th:only-of-type {\n",
       "        vertical-align: middle;\n",
       "    }\n",
       "\n",
       "    .dataframe tbody tr th {\n",
       "        vertical-align: top;\n",
       "    }\n",
       "\n",
       "    .dataframe thead th {\n",
       "        text-align: right;\n",
       "    }\n",
       "</style>\n",
       "<table border=\"1\" class=\"dataframe\">\n",
       "  <thead>\n",
       "    <tr style=\"text-align: right;\">\n",
       "      <th></th>\n",
       "      <th>x1</th>\n",
       "      <th>x2</th>\n",
       "      <th>x3</th>\n",
       "      <th>Sense</th>\n",
       "      <th>RHS</th>\n",
       "    </tr>\n",
       "  </thead>\n",
       "  <tbody>\n",
       "    <tr>\n",
       "      <th>0</th>\n",
       "      <td>2</td>\n",
       "      <td>1</td>\n",
       "      <td>3</td>\n",
       "      <td>&gt;=</td>\n",
       "      <td>50</td>\n",
       "    </tr>\n",
       "    <tr>\n",
       "      <th>1</th>\n",
       "      <td>1</td>\n",
       "      <td>3</td>\n",
       "      <td>1</td>\n",
       "      <td>&gt;=</td>\n",
       "      <td>40</td>\n",
       "    </tr>\n",
       "    <tr>\n",
       "      <th>2</th>\n",
       "      <td>3</td>\n",
       "      <td>2</td>\n",
       "      <td>1</td>\n",
       "      <td>&gt;=</td>\n",
       "      <td>45</td>\n",
       "    </tr>\n",
       "  </tbody>\n",
       "</table>\n",
       "</div>"
      ],
      "text/plain": [
       "   x1  x2  x3 Sense  RHS\n",
       "0   2   1   3    >=   50\n",
       "1   1   3   1    >=   40\n",
       "2   3   2   1    >=   45"
      ]
     },
     "metadata": {},
     "output_type": "display_data"
    }
   ],
   "source": [
    "import pandas as pd\n",
    "\n",
    "# Variables table\n",
    "var_df = pd.DataFrame({\n",
    "    'Variable': var_names,\n",
    "    'Objective Coef': objective_coefs,\n",
    "    'Lower Bound': [b[0] for b in bounds],\n",
    "    'Upper Bound': [b[1] for b in bounds]\n",
    "})\n",
    "display(var_df)\n",
    "\n",
    "# Constraints table\n",
    "con_data = []\n",
    "for i, (coefs, sense, rhs) in enumerate(constraints):\n",
    "    row = {var_names[j]: coefs[j] for j in range(len(var_names))}\n",
    "    row['Sense'] = sense\n",
    "    row['RHS'] = rhs\n",
    "    con_data.append(row)\n",
    "con_df = pd.DataFrame(con_data)\n",
    "display(con_df)"
   ]
  },
  {
   "cell_type": "markdown",
   "id": "77772dd2-a0ca-4655-a609-5f5cd477f916",
   "metadata": {},
   "source": [
    "## 3. Build and Solve the Model"
   ]
  },
  {
   "cell_type": "code",
   "execution_count": 5,
   "id": "ba3c8eb8-e997-4f3c-806e-a8fcfcfe88bc",
   "metadata": {},
   "outputs": [
    {
     "name": "stdout",
     "output_type": "stream",
     "text": [
      "Welcome to the CBC MILP Solver \n",
      "Version: 2.10.3 \n",
      "Build Date: Dec 15 2019 \n",
      "\n",
      "command line - /opt/anaconda3/envs/aiopt/lib/python3.10/site-packages/pulp/apis/../solverdir/cbc/osx/i64/cbc /var/folders/pl/w3z83xs50653rdq_0shjtkyh0000gn/T/ee1f7934771446dca6b596a2281e54c5-pulp.mps -timeMode elapsed -branch -printingOptions all -solution /var/folders/pl/w3z83xs50653rdq_0shjtkyh0000gn/T/ee1f7934771446dca6b596a2281e54c5-pulp.sol (default strategy 1)\n",
      "At line 2 NAME          MODEL\n",
      "At line 3 ROWS\n",
      "At line 8 COLUMNS\n",
      "At line 21 RHS\n",
      "At line 25 BOUNDS\n",
      "At line 26 ENDATA\n",
      "Problem MODEL has 3 rows, 3 columns and 9 elements\n",
      "Coin0008I MODEL read with 0 errors\n",
      "Option for timeMode changed from cpu to elapsed\n",
      "Presolve 3 (0) rows, 3 (0) columns and 9 (0) elements\n",
      "0  Obj 0 Primal inf 45 (3)\n",
      "4  Obj 292\n",
      "Optimal - objective value 292\n",
      "Optimal objective 292 - 4 iterations time 0.002\n",
      "Option for printingOptions changed from normal to all\n",
      "Total time (CPU seconds):       0.00   (Wallclock seconds):       0.00\n",
      "\n"
     ]
    },
    {
     "data": {
      "text/plain": [
       "1"
      ]
     },
     "execution_count": 5,
     "metadata": {},
     "output_type": "execute_result"
    }
   ],
   "source": [
    "import pulp as pl\n",
    "\n",
    "# Create the model\n",
    "model = pl.LpProblem(\"Minimization_Problem\", pl.LpMinimize)\n",
    "\n",
    "# Create variables\n",
    "vars = [pl.LpVariable(var_names[i], lowBound=bounds[i][0], upBound=bounds[i][1]) for i in range(len(var_names))]\n",
    "\n",
    "# Add objective function\n",
    "model += pl.lpSum([objective_coefs[i] * vars[i] for i in range(len(var_names))]), \"Objective\"\n",
    "\n",
    "# Add constraints\n",
    "for i, (coefs, sense, rhs) in enumerate(constraints):\n",
    "    expr = pl.lpSum([coefs[j] * vars[j] for j in range(len(var_names))])\n",
    "    if sense == '<=':\n",
    "        model += (expr <= rhs, f\"Constraint_{i+1}\")\n",
    "    elif sense == '>=':\n",
    "        model += (expr >= rhs, f\"Constraint_{i+1}\")\n",
    "    elif sense == '=':\n",
    "        model += (expr == rhs, f\"Constraint_{i+1}\")\n",
    "\n",
    "# Solve the model\n",
    "model.solve()"
   ]
  },
  {
   "cell_type": "markdown",
   "id": "e913ab9a-364f-4fac-934e-5e0864251309",
   "metadata": {},
   "source": [
    "## 4. Display Solution Table"
   ]
  },
  {
   "cell_type": "code",
   "execution_count": 6,
   "id": "02b2d6e8-7e4a-4c6b-9b28-19383c078330",
   "metadata": {},
   "outputs": [
    {
     "data": {
      "text/html": [
       "<div>\n",
       "<style scoped>\n",
       "    .dataframe tbody tr th:only-of-type {\n",
       "        vertical-align: middle;\n",
       "    }\n",
       "\n",
       "    .dataframe tbody tr th {\n",
       "        vertical-align: top;\n",
       "    }\n",
       "\n",
       "    .dataframe thead th {\n",
       "        text-align: right;\n",
       "    }\n",
       "</style>\n",
       "<table border=\"1\" class=\"dataframe\">\n",
       "  <thead>\n",
       "    <tr style=\"text-align: right;\">\n",
       "      <th></th>\n",
       "      <th>Variable</th>\n",
       "      <th>Optimal Value</th>\n",
       "    </tr>\n",
       "  </thead>\n",
       "  <tbody>\n",
       "    <tr>\n",
       "      <th>0</th>\n",
       "      <td>x1</td>\n",
       "      <td>22.0</td>\n",
       "    </tr>\n",
       "    <tr>\n",
       "      <th>1</th>\n",
       "      <td>x2</td>\n",
       "      <td>6.0</td>\n",
       "    </tr>\n",
       "    <tr>\n",
       "      <th>2</th>\n",
       "      <td>x3</td>\n",
       "      <td>0.0</td>\n",
       "    </tr>\n",
       "  </tbody>\n",
       "</table>\n",
       "</div>"
      ],
      "text/plain": [
       "  Variable  Optimal Value\n",
       "0       x1           22.0\n",
       "1       x2            6.0\n",
       "2       x3            0.0"
      ]
     },
     "metadata": {},
     "output_type": "display_data"
    },
    {
     "name": "stdout",
     "output_type": "stream",
     "text": [
      "Objective Value: 292.00\n",
      "Status: Optimal\n"
     ]
    }
   ],
   "source": [
    "# Solution table\n",
    "solution_df = pd.DataFrame({\n",
    "    'Variable': var_names,\n",
    "    'Optimal Value': [v.varValue for v in model.variables()]\n",
    "})\n",
    "display(solution_df)\n",
    "\n",
    "print(f\"Objective Value: {pl.value(model.objective):.2f}\")\n",
    "print(f\"Status: {pl.LpStatus[model.status]}\")"
   ]
  },
  {
   "cell_type": "code",
   "execution_count": 7,
   "id": "8b5f18bb-0e35-4226-b768-9b0642225101",
   "metadata": {},
   "outputs": [],
   "source": [
    "## 5. Graphed Solution (Feasible Region and Optimal Point)"
   ]
  },
  {
   "cell_type": "code",
   "execution_count": 8,
   "id": "35773a22-ee5f-4c76-ad7a-5977ca8f33d7",
   "metadata": {},
   "outputs": [
    {
     "name": "stdout",
     "output_type": "stream",
     "text": [
      "Feasibility region plot is only available for 2-variable problems.\n"
     ]
    }
   ],
   "source": [
    "import numpy as np\n",
    "import matplotlib.pyplot as plt\n",
    "\n",
    "# Only works for 2 variables!\n",
    "if len(var_names) == 2:\n",
    "    x1 = np.linspace(0, max([rhs/coef[0] if coef[0] else 0 for coef, _, rhs in constraints])*1.2, 400)\n",
    "    plt.figure(figsize=(8,6))\n",
    "\n",
    "    # Plot each constraint\n",
    "    for i, (coefs, sense, rhs) in enumerate(constraints):\n",
    "        if coefs[1] != 0:\n",
    "            y = (rhs - coefs[0]*x1) / coefs[1]\n",
    "            plt.plot(x1, y, label=f\"Constraint {i+1}: {coefs[0]}*x1 + {coefs[1]}*x2 {sense} {rhs}\")\n",
    "        else:\n",
    "            plt.axvline(rhs/coefs[0], label=f\"Constraint {i+1}: x1 = {rhs/coefs[0]}\")\n",
    "\n",
    "    # Fill feasible region (brute force grid)\n",
    "    X, Y = np.meshgrid(x1, x1)\n",
    "    feasible = np.ones_like(X, dtype=bool)\n",
    "    for coefs, sense, rhs in constraints:\n",
    "        if sense == '<=':\n",
    "            feasible &= (coefs[0]*X + coefs[1]*Y <= rhs)\n",
    "        elif sense == '>=':\n",
    "            feasible &= (coefs[0]*X + coefs[1]*Y >= rhs)\n",
    "        elif sense == '=':\n",
    "            feasible &= (np.isclose(coefs[0]*X + coefs[1]*Y, rhs))\n",
    "    plt.contourf(X, Y, feasible, levels=[0.5, 1], colors=['#d0f0d0'], alpha=0.5)\n",
    "\n",
    "    # Plot optimal point\n",
    "    opt_x = [v.varValue for v in model.variables()]\n",
    "    plt.plot(opt_x[0], opt_x[1], 'ro', label='Optimal Solution')\n",
    "\n",
    "    # Plot objective function line (z = optimal value)\n",
    "    z = pl.value(model.objective)\n",
    "    if objective_coefs[1] != 0:\n",
    "        y_obj = (z - objective_coefs[0]*x1) / objective_coefs[1]\n",
    "        plt.plot(x1, y_obj, 'k--', label='Objective (z)')\n",
    "\n",
    "    plt.xlim(0, max(x1))\n",
    "    plt.ylim(0, max(x1))\n",
    "    plt.xlabel(var_names[0])\n",
    "    plt.ylabel(var_names[1])\n",
    "    plt.legend()\n",
    "    plt.title('Feasible Region and Optimal Solution')\n",
    "    plt.grid(True)\n",
    "    plt.show()\n",
    "else:\n",
    "    print(\"Feasibility region plot is only available for 2-variable problems.\")"
   ]
  },
  {
   "cell_type": "markdown",
   "id": "fe6bd690-cada-4d09-90ad-2cc45da7b401",
   "metadata": {},
   "source": [
    "## 6. Visualize Solution (Bar Chart)"
   ]
  },
  {
   "cell_type": "code",
   "execution_count": 10,
   "id": "0c37de2f-4535-49f3-a97d-251b66bf97f1",
   "metadata": {},
   "outputs": [
    {
     "data": {
      "image/png": "[encoded data removed]",
      "text/plain": [
       "<Figure size 800x500 with 1 Axes>"
      ]
     },
     "metadata": {},
     "output_type": "display_data"
    }
   ],
   "source": [
    "var_values = [v.varValue for v in model.variables()]\n",
    "plt.figure(figsize=(8, 5))\n",
    "bars = plt.bar(var_names, var_values)\n",
    "plt.xlabel('Variables')\n",
    "plt.ylabel('Optimal Value')\n",
    "plt.title('Optimal Solution')\n",
    "plt.grid(axis='y', linestyle='--', alpha=0.7)\n",
    "\n",
    "# Add value labels\n",
    "for bar in bars:\n",
    "    height = bar.get_height()\n",
    "    plt.text(bar.get_x() + bar.get_width()/2., height, f'{height:.2f}', ha='center', va='bottom')\n",
    "\n",
    "plt.show()"
   ]
  },
  {
   "cell_type": "markdown",
   "id": "cae725bd-13f3-478d-95a2-ec614cc6b64e",
   "metadata": {},
   "source": [
    "## 7. Sensitivity Analysis (Shadow Prices and Reduced Costs)"
   ]
  },
  {
   "cell_type": "code",
   "execution_count": 11,
   "id": "e94ccf02-abe2-495b-9bf8-2533dbc7c746",
   "metadata": {},
   "outputs": [
    {
     "name": "stdout",
     "output_type": "stream",
     "text": [
      "Constraint Shadow Prices (Dual Values) and Slacks:\n",
      "Constraint_1: Shadow Price = 3.60, Slack = -0.00\n",
      "Constraint_2: Shadow Price = 2.80, Slack = -0.00\n",
      "Constraint_3: Shadow Price = 0.00, Slack = -33.00\n",
      "\n",
      "Variable Reduced Costs:\n",
      "x1: Reduced Cost = 0.00\n",
      "x2: Reduced Cost = 0.00\n",
      "x3: Reduced Cost = 1.40\n"
     ]
    }
   ],
   "source": [
    "# Sensitivity Analysis: Shadow Prices (Dual Values) and Reduced Costs\n",
    "\n",
    "print(\"Constraint Shadow Prices (Dual Values) and Slacks:\")\n",
    "for name, constraint in model.constraints.items():\n",
    "    print(f\"{name}: Shadow Price = {constraint.pi:.2f}, Slack = {constraint.slack:.2f}\")\n",
    "\n",
    "print(\"\\nVariable Reduced Costs:\")\n",
    "for v in model.variables():\n",
    "    print(f\"{v.name}: Reduced Cost = {v.dj:.2f}\")"
   ]
  },
  {
   "cell_type": "markdown",
   "id": "c7c15b42-0024-4f9b-b5f2-55ae08989bf8",
   "metadata": {},
   "source": [
    "## 8. Notes\n",
    "\n",
    "- To solve a 4-variable problem, just add the fourth variable and update the lists in the Data Entry cell.\n",
    "- For more than 2 variables, only the bar chart is shown (feasible region plots are only practical for 2 variables).\n",
    "- You can add more markdown cells to explain your specific problem or results."
   ]
  },
  {
   "cell_type": "code",
   "execution_count": null,
   "id": "88f19eff-b8f0-44bf-86e5-00125afe5a7b",
   "metadata": {},
   "outputs": [],
   "source": []
  }
 ],
 "metadata": {
  "kernelspec": {
   "display_name": "Python 3 (ipykernel)",
   "language": "python",
   "name": "python3"
  },
  "language_info": {
   "codemirror_mode": {
    "name": "ipython",
    "version": 3
   },
   "file_extension": ".py",
   "mimetype": "text/x-python",
   "name": "python",
   "nbconvert_exporter": "python",
   "pygments_lexer": "ipython3",
   "version": "3.10.16"
  }
 },
 "nbformat": 4,
 "nbformat_minor": 5
}
